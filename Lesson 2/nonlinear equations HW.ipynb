{
 "cells": [
  {
   "cell_type": "markdown",
   "metadata": {},
   "source": [
    "# 1. Fixed-point iteration"
   ]
  },
  {
   "cell_type": "markdown",
   "metadata": {},
   "source": [
    "Rewrite $f(x) = 0$ as $x = \\phi(x)$ so that\n",
    "$$f(x_*) = 0 \\Leftrightarrow x_* = \\phi(x_*),$$\n",
    "where $x_*$ is the root of the first equation.\n",
    "\n",
    "The simplest way of costructing $\\phi(x)$ is\n",
    "$$\\phi(x) = x - \\alpha f(x).$$"
   ]
  },
  {
   "cell_type": "markdown",
   "metadata": {},
   "source": [
    "The iterative process\n",
    "$$x_{n+1} = \\phi(x_{n})$$\n",
    "converges to the root $x_*$ if $\\lim\\limits_{n \\rightarrow} x_n = x_*$."
   ]
  },
  {
   "cell_type": "markdown",
   "metadata": {},
   "source": [
    "Consider the following equation:\n",
    "\n",
    "$$\n",
    "\\sqrt{x} = \\cos{x}\n",
    "$$\n",
    "\n",
    "Plot the left-hand side and right-hand side of this equation, and localize the root graphically. Estimate the location of the root by visual inspection of the plot.\n",
    "\n",
    "Write a function which finds the solution using fixed-point iteration up to a predefined accuracy $\\epsilon$ in the form\n",
    "\n",
    "$$\n",
    "\\phi(x) = x - \\alpha f(x),\n",
    "$$\n",
    "\n",
    "where $\\alpha$ is the free parameter. Check the dependence of the number of iterations required for a given $\\epsilon$ on $\\alpha$ (visualize this dependence for three different values of $epsilon$). Compare your results to an expectation that the optimal value of $\\alpha$ is given by \n",
    "\n",
    "$$\n",
    "\\alpha = \\frac{2}{m + M}\n",
    "$$\n",
    "\n",
    "where $0 < m < |f'(x)| < M$ over the localization interval (highlight it on the plot)."
   ]
  },
  {
   "cell_type": "code",
   "execution_count": null,
   "metadata": {},
   "outputs": [],
   "source": [
    "# ... ENTER YOUR CODE HERE ..."
   ]
  },
  {
   "cell_type": "markdown",
   "metadata": {},
   "source": [
    "Find the solution (and number of iterations) of the equation above using fixed-point iteration for $\\alpha = 1$ and $\\epsilon = 0.001$ (for Google form)."
   ]
  },
  {
   "cell_type": "code",
   "execution_count": null,
   "metadata": {},
   "outputs": [],
   "source": [
    "# ... ENTER YOUR CODE HERE ..."
   ]
  },
  {
   "cell_type": "markdown",
   "metadata": {},
   "source": [
    "# 2. Inverse quadratic interpolation"
   ]
  },
  {
   "cell_type": "markdown",
   "metadata": {},
   "source": [
    "Suppose we have three different consequitive iterates $x_0$, $x_1$ and $x_2$ and a function $f(x)$: $y_i = f(x_i)$.\n",
    "\n",
    "Construct a unique parabola which passes through $(x_i, y_i)$. Take as a next approximation, $x_3$, the root of this parabola.\n",
    "\n",
    "In order not to solve another nonlinear equation on each step, use an inverse interpolation: construct a second order polynomial $Q(y)$ such that $Q(y_i) = x_i$. Then $x_3 = Q(0)$."
   ]
  },
  {
   "cell_type": "markdown",
   "metadata": {},
   "source": [
    "Now, write a function which finds the solution using inverse quadratic interpolation up to a predefined accuracy $\\epsilon$."
   ]
  },
  {
   "cell_type": "code",
   "execution_count": 1,
   "metadata": {},
   "outputs": [],
   "source": [
    "def inv_quad_interpolation(point_0, point_1, point_3, eps):\n",
    "# ... ENTER YOUR CODE HERE ..."
   ]
  },
  {
   "cell_type": "markdown",
   "metadata": {},
   "source": [
    "Test your function on pairs $(0.2, 1.008)$, $(0.3, -0.473)$ and $(0.4, -1.936)$. What is the solution for $\\epsilon = 0.001$? How many iterations did it take to find it? (You will need the answers for Google Form)."
   ]
  },
  {
   "cell_type": "markdown",
   "metadata": {},
   "source": [
    "# 3. Newton-Raphson method"
   ]
  },
  {
   "cell_type": "markdown",
   "metadata": {},
   "source": [
    "Implement the Newton-Raphson method to solve equation $z^3 - 1 = 0$ for complex $z$. Visualize and describe the convergence domain."
   ]
  },
  {
   "cell_type": "code",
   "execution_count": 43,
   "metadata": {},
   "outputs": [
    {
     "name": "stdout",
     "output_type": "stream",
     "text": [
      "0  :  (0.6666666666666667+0.5j)\n",
      "1  :  (0.5788444444444446-0.12746666666666673j)\n",
      "2  :  (1.246963981575016+0.31357842515499706j)\n",
      "3  :  (1.0089481977515045+0.11367796515490089j)\n",
      "4  :  (0.9878680459783755+0.003836843642864657j)\n"
     ]
    }
   ],
   "source": [
    "# ... ENTER YOUR CODE HERE ...\n",
    "import numpy as np\n",
    "\n",
    "%matplotlib notebook\n",
    "\n",
    "import matplotlib.pyplot as plt\n",
    "\n",
    "def f(z):\n",
    "    return z**3 - 1\n",
    "def fprime(z):\n",
    "    return 3*z**2\n",
    "\n",
    "\n",
    "z = complex(1,1)\n",
    "for i in range(0,5):    \n",
    "    xc = -f(z)/fprime(z) + z\n",
    "    z = xc\n",
    "    print(i, ' : ', z)\n",
    "\n",
    "\n"
   ]
  },
  {
   "cell_type": "code",
   "execution_count": 34,
   "metadata": {},
   "outputs": [],
   "source": [
    "#проитерировать начальные точки и поставить их корни на комплексной плоскости, одного цвета(начальная точка и корень)\n",
    "from scipy.optimize import brentq\n"
   ]
  },
  {
   "cell_type": "markdown",
   "metadata": {},
   "source": [
    "Hint: visualize the convergence domain as a scatter plot of coloured points (the colour of the point depends on the root it converged to)."
   ]
  }
 ],
 "metadata": {
  "kernelspec": {
   "display_name": "Python 3",
   "language": "python",
   "name": "python3"
  },
  "language_info": {
   "codemirror_mode": {
    "name": "ipython",
    "version": 3
   },
   "file_extension": ".py",
   "mimetype": "text/x-python",
   "name": "python",
   "nbconvert_exporter": "python",
   "pygments_lexer": "ipython3",
   "version": "3.6.8"
  }
 },
 "nbformat": 4,
 "nbformat_minor": 2
}

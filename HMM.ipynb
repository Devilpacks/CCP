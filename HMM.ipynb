{
 "cells": [
  {
   "cell_type": "code",
   "execution_count": 1,
   "metadata": {},
   "outputs": [],
   "source": [
    "import numpy as np\n",
    "import matplotlib.pyplot as plt\n",
    "import math"
   ]
  },
  {
   "cell_type": "code",
   "execution_count": 2,
   "metadata": {},
   "outputs": [],
   "source": [
    "#матрицы переходов и эмиссий\n",
    "k = 6 #количество возможных наблюдаемых состояний\n",
    "m = int(2) #количество скрытых состояний\n",
    "\n",
    "pi = np.array([0.5, 0.5])\n",
    "h = float(1 / k)\n",
    "states = [0, 1]\n",
    "\n",
    "T = np.array([[0.95, 0.05], [0.1, 0.9]], float)\n",
    "e = np.array([[h, h, h, h, h, h], [0.1, 0.1, 0.1, 0.1, 0.1, 0.5]], float)\n",
    "\n",
    "L = int(300) #длина генерируемой цепочки"
   ]
  },
  {
   "cell_type": "code",
   "execution_count": null,
   "metadata": {},
   "outputs": [],
   "source": []
  }
 ],
 "metadata": {
  "kernelspec": {
   "display_name": "Python 3",
   "language": "python",
   "name": "python3"
  },
  "language_info": {
   "codemirror_mode": {
    "name": "ipython",
    "version": 3
   },
   "file_extension": ".py",
   "mimetype": "text/x-python",
   "name": "python",
   "nbconvert_exporter": "python",
   "pygments_lexer": "ipython3",
   "version": "3.6.8"
  }
 },
 "nbformat": 4,
 "nbformat_minor": 2
}

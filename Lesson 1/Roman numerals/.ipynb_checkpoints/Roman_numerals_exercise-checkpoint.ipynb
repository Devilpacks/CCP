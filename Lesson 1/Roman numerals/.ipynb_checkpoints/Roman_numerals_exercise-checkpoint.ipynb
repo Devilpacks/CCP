{
 "cells": [
  {
   "cell_type": "markdown",
   "metadata": {},
   "source": [
    "# Roman numerals"
   ]
  },
  {
   "cell_type": "markdown",
   "metadata": {},
   "source": [
    "## I. Roman numerals to decimals\n",
    "\n",
    "Write a function which receives a Roman numeral written out as a string, and returns an integer representing the decimal form of the input number. "
   ]
  },
  {
   "cell_type": "code",
   "execution_count": 1,
   "metadata": {},
   "outputs": [],
   "source": [
    "mapping = {\"I\" : 1, \n",
    "           \"V\" : 5,\n",
    "           \"X\" : 10,\n",
    "           \"L\" : 50,\n",
    "           \"C\" : 100,\n",
    "           \"D\" : 500,\n",
    "           \"M\" : 1000}"
   ]
  },
  {
   "cell_type": "code",
   "execution_count": 5,
   "metadata": {},
   "outputs": [],
   "source": [
    "def roman_to_decimal(rom):\n",
    "    \"\"\"Convert a Roman numeral to decimal.\n",
    "    \n",
    "    Parameters\n",
    "    ----------\n",
    "    rom : str\n",
    "        A Roman numeral representing a positive integer.\n",
    "        \n",
    "    Returns\n",
    "    -------\n",
    "    dec : int\n",
    "        The result of conversion of `rom` into a decimal system.\n",
    "    \"\"\"\n",
    "    # ...\n",
    "    # enter your code here\n",
    "    # ...\n",
    "    dec = 0\n",
    "    for i in range(len(rom)):\n",
    "    \n",
    "        now = mapping[rom[len(rom)-1-i]]\n",
    "    \n",
    "    \n",
    "        if i == 0:\n",
    "            dec += now\n",
    "        \n",
    "        elif i > 0:\n",
    "            prev = mapping[rom[len(rom)-i]]\n",
    "            if now < prev:\n",
    "                dec -= now\n",
    "            else:\n",
    "                dec += now\n",
    "        \n",
    "    return dec"
   ]
  },
  {
   "cell_type": "markdown",
   "metadata": {},
   "source": [
    "Here are some tests for you to test your code. Your code must pass all of them. You also need to come up with several more tests (your choice)."
   ]
  },
  {
   "cell_type": "code",
   "execution_count": 6,
   "metadata": {},
   "outputs": [
    {
     "name": "stdout",
     "output_type": "stream",
     "text": [
      "True\n",
      "True\n",
      "True\n",
      "True\n",
      "True\n"
     ]
    }
   ],
   "source": [
    "test_pairs = [(\"IX\", 9), (\"XI\", 11), (\"MCCII\", 1202), (\"MMXVIII\", 2018), (\"XLIX\", 49)]\n",
    "\n",
    "for rom, dec in test_pairs:\n",
    "    converted = roman_to_decimal(rom)\n",
    "    print(converted == dec)"
   ]
  },
  {
   "cell_type": "markdown",
   "metadata": {},
   "source": [
    "Now you can run tests in file `tests_roman_to_decimal.txt`. You need to insert a number of false results and listed false results in respective fields in Google Form for this lesson."
   ]
  },
  {
   "cell_type": "code",
   "execution_count": 13,
   "metadata": {},
   "outputs": [
    {
     "name": "stdout",
     "output_type": "stream",
     "text": [
      "7\n"
     ]
    }
   ],
   "source": [
    "p_roman = \"tests_roman_to_decimal.txt\"\n",
    "with open(p_roman, \"rb\") as fp_roman:\n",
    "    lines_roman=fp_roman.readlines()\n",
    "\n",
    "test_data_roman = [line.strip().decode(\"ascii\").split(',') for line in lines_roman]\n",
    "test_data_roman = [(line[0], int(line[1])) for line in test_data_roman]\n",
    "\n",
    "# ...\n",
    "# enter your code here\n",
    "# ...\n",
    "false = 0\n",
    "for rom, dec in test_data_roman:\n",
    "    converted = roman_to_decimal(rom)\n",
    "    if converted != dec:\n",
    "        false += 1\n",
    "print(false)"
   ]
  },
  {
   "cell_type": "markdown",
   "metadata": {},
   "source": [
    "## II. Decimal numbers to roman numerals.\n",
    "\n",
    "The maximum grade for first task (Roman to decimal) is 7 on the 10-point HSE scale. For extra credit, complete the second task: *given a decimal number, convert it to the Roman form*."
   ]
  },
  {
   "cell_type": "code",
   "execution_count": 3,
   "metadata": {},
   "outputs": [],
   "source": [
    "def decimal_to_roman(dec):\n",
    "    \"\"\"Convert a decimal to the Roman form.\n",
    "    \n",
    "    Parameters\n",
    "    ----------\n",
    "    dec : int\n",
    "        A positive integer number\n",
    "    \n",
    "    Returns\n",
    "    -------\n",
    "    rom : str\n",
    "        A string representation of a Roman numeral form of `dec`.\n",
    "    \"\"\"\n",
    "    # ...\n",
    "    # enter your code here\n",
    "    # ...\n",
    "    mapping={1:\"I\", 4:\"IV\", 5:\"V\", 9: \"IX\", 10:\"X\", 40:\"XL\", 50:\"L\",\n",
    "               90:\"XC\", 100:\"C\", 400:\"CD\", 500:\"D\", 900:\"CM\", 1000:\"M\"}\n",
    "    rom = \"\"\n",
    "    for decmap, rommap in sorted(mapping.items(), reverse=True):\n",
    "        while dec >= decmap:\n",
    "            rom += rommap\n",
    "            dec -= decmap\n",
    "    return rom"
   ]
  },
  {
   "cell_type": "markdown",
   "metadata": {},
   "source": [
    "You need to come up with test cases to show that your conversion works as expected. \n",
    "NB: the conversion is ambiguous in some cases. Any valid conversion is accepted. "
   ]
  },
  {
   "cell_type": "markdown",
   "metadata": {},
   "source": [
    "Now you can run tests in file `tests_decimal_to_roman.txt`. You need to insert a number of false results and listed false results in respective fields in Google Form for this lesson."
   ]
  },
  {
   "cell_type": "code",
   "execution_count": 4,
   "metadata": {},
   "outputs": [
    {
     "name": "stdout",
     "output_type": "stream",
     "text": [
      "6\n"
     ]
    }
   ],
   "source": [
    "p_decimal = \"tests_decimal_to_roman.txt\"\n",
    "with open(p_decimal, \"rb\") as fp_decimal:\n",
    "    lines_decimal=fp_decimal.readlines()\n",
    "\n",
    "test_data_decimal = [line.strip().decode(\"ascii\").split(',') for line in lines_decimal]\n",
    "test_data_decimal = [(line[0], int(line[1])) for line in test_data_decimal]\n",
    "\n",
    "# ...\n",
    "# enter your code here\n",
    "# ...\n",
    "false = 0\n",
    "for rom, dec in test_data_decimal:\n",
    "    converted = decimal_to_roman(dec)\n",
    "    if converted != rom:\n",
    "        false += 1\n",
    "print(false)"
   ]
  }
 ],
 "metadata": {
  "kernelspec": {
   "display_name": "Python 3",
   "language": "python",
   "name": "python3"
  },
  "language_info": {
   "codemirror_mode": {
    "name": "ipython",
    "version": 3
   },
   "file_extension": ".py",
   "mimetype": "text/x-python",
   "name": "python",
   "nbconvert_exporter": "python",
   "pygments_lexer": "ipython3",
   "version": "3.6.8"
  }
 },
 "nbformat": 4,
 "nbformat_minor": 2
}

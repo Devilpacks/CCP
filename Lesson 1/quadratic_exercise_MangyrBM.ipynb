{
 "cells": [
  {
   "cell_type": "markdown",
   "metadata": {},
   "source": [
    "## Solve a quadratic equation, $x^2 + b x + c = 0$."
   ]
  },
  {
   "cell_type": "code",
   "execution_count": 2,
   "metadata": {},
   "outputs": [],
   "source": [
    "import cmath\n",
    "import math\n",
    "\n",
    "def solve_quad(b, c):\n",
    "    \"\"\"Solve a quadratic equation, x**2 + bx + c = 0.\n",
    "    \n",
    "    Parameters\n",
    "    ----------\n",
    "    b, c : float\n",
    "       Coefficients\n",
    "       \n",
    "    Returns\n",
    "    -------\n",
    "    x1, x2 : float or complex\n",
    "       Roots.\n",
    "    \"\"\"\n",
    "    # ... enter your code here ...\n",
    "    discr = b ** 2 - 4  * c\n",
    "    \n",
    "    if discr > 0:\n",
    "        x1 = (-b + math.sqrt(discr)) / 2\n",
    "        x2 = (-b - math.sqrt(discr)) / 2\n",
    "        #print(x1, x2)\n",
    "        \n",
    "    elif discr == 0:\n",
    "        x1 = -b / 2\n",
    "        x2 = -b / 2\n",
    "        #print(x1)\n",
    "        \n",
    "    elif discr < 0:\n",
    "        x1 = (-b + cmath.sqrt(discr)) / 2\n",
    "        x2 = (-b - cmath.sqrt(discr)) / 2\n",
    "        #print(x1, x2)\n",
    "    return x1,x2"
   ]
  },
  {
   "cell_type": "markdown",
   "metadata": {},
   "source": [
    "Test the function"
   ]
  },
  {
   "cell_type": "code",
   "execution_count": 3,
   "metadata": {},
   "outputs": [],
   "source": [
    "from numpy import allclose"
   ]
  },
  {
   "cell_type": "code",
   "execution_count": 4,
   "metadata": {},
   "outputs": [],
   "source": [
    "variants = [{'b': 4.0, 'c': 3.0},\n",
    "            {'b': 2.0, 'c': 1.0},\n",
    "            {'b': 0.5, 'c': 4.0},\n",
    "            {'b': 1e10, 'c': 3.0},\n",
    "            {'b': -1e10, 'c': 4.0},]"
   ]
  },
  {
   "cell_type": "code",
   "execution_count": 13,
   "metadata": {},
   "outputs": [
    {
     "name": "stdout",
     "output_type": "stream",
     "text": [
      "True\n",
      "True\n",
      "True\n",
      "False\n",
      "False\n"
     ]
    }
   ],
   "source": [
    "for var in variants:\n",
    "    x1, x2 = solve_quad(**var)\n",
    "    print(allclose(x1*x2, var['c']))"
   ]
  },
  {
   "cell_type": "markdown",
   "metadata": {},
   "source": [
    "You will need to list solutions for last test's parameters (`{'b': -1e10, 'c': 4.0}`) in order to put them in respective field in Google Form for this lesson."
   ]
  },
  {
   "cell_type": "code",
   "execution_count": 56,
   "metadata": {},
   "outputs": [],
   "source": [
    "import cmath\n",
    "import math\n",
    "\n",
    "def solve_quad(b, c):\n",
    "    \n",
    "    discr = float(b ** 2 - 4  * c)\n",
    "        \n",
    "    if discr > 0 and b>=100:\n",
    "        x1 = float((-b - math.sqrt(discr))/2)\n",
    "        x2 = float((b/2)*sqrtf(float(-4*c/b**2)))\n",
    "        \n",
    "    if discr > 0 and b>0 and b<100:\n",
    "        x1 = float((-b - math.sqrt(discr))/2)\n",
    "        x2 = float((-b + math.sqrt(discr))/2)\n",
    "        \n",
    "    elif discr > 0 and b<0:\n",
    "        x1 = float((-b + math.sqrt(discr))/2)\n",
    "        x2 = float(-(b/2)*sqrtf(float(4*c/b**2)))\n",
    "        \n",
    "    elif discr == 0:\n",
    "        x1 = -b / 2\n",
    "        x2 = -b / 2\n",
    "        \n",
    "    elif discr < 0:\n",
    "        x1 = ((-b) + (cmath.sqrt(discr)))/2\n",
    "        x2 = ((-b) - (cmath.sqrt(discr)))/2\n",
    "        \n",
    "    return x1,x2\n",
    "\n",
    "def sqrtf(x):\n",
    "    \n",
    "    steps = 100\n",
    "    summ = float(0) \n",
    "    k = float(0.5)\n",
    "    arg = float(x)\n",
    "    i = 1\n",
    "    \n",
    "    for i in range(steps):\n",
    "        summ=summ+k*arg\n",
    "        k=k*(0.5-i)/(i+1)\n",
    "        arg=x*arg\n",
    "        \n",
    "    return summ"
   ]
  },
  {
   "cell_type": "code",
   "execution_count": 55,
   "metadata": {},
   "outputs": [
    {
     "name": "stdout",
     "output_type": "stream",
     "text": [
      "True\n",
      "True\n",
      "True\n",
      "True\n",
      "True\n"
     ]
    }
   ],
   "source": [
    "for var in variants:\n",
    "    x1, x2 = solve_quad(**var)\n",
    "    print(allclose(x1*x2, var['c']))"
   ]
  },
  {
   "cell_type": "code",
   "execution_count": null,
   "metadata": {},
   "outputs": [],
   "source": []
  }
 ],
 "metadata": {
  "kernelspec": {
   "display_name": "Python 3",
   "language": "python",
   "name": "python3"
  },
  "language_info": {
   "codemirror_mode": {
    "name": "ipython",
    "version": 3
   },
   "file_extension": ".py",
   "mimetype": "text/x-python",
   "name": "python",
   "nbconvert_exporter": "python",
   "pygments_lexer": "ipython3",
   "version": "3.6.8"
  }
 },
 "nbformat": 4,
 "nbformat_minor": 2
}
